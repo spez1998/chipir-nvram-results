{
 "cells": [
  {
   "cell_type": "code",
   "execution_count": null,
   "source": [
    "from datetime import datetime, timedelta\r\n",
    "import numpy as np\r\n",
    "import pandas as pd\r\n",
    "import numpy as np\r\n",
    "import os\r\n",
    "import sys"
   ],
   "outputs": [],
   "metadata": {}
  },
  {
   "cell_type": "code",
   "execution_count": null,
   "source": [
    "class Analyser:\r\n",
    "    def __init__(self, targetDir_fullpath):\r\n",
    "        targetDir_trunc = targetDir_fullpath.split(\"/\")[-3:]\r\n",
    "        self.chip    = targetDir_trunc[0]\r\n",
    "        self.variant = targetDir_trunc[1]\r\n",
    "        self.size    = targetDir_trunc[2]\r\n",
    "        log_names = os.listdir(targetDir_fullpath)\r\n",
    "        self.log_names = [targetDir_fullpath+i for i in os.listdir(targetDir_fullpath) if \".csv\" in i]\r\n",
    "        self.log_names.sort(key=os.path.getmtime)\r\n",
    "\r\n",
    "    def getData(self):\r\n",
    "        self.data = pd.read_csv(self.log_names[0], error_bad_lines=False)\r\n",
    "        for i in range(1, len(self.log_names)):\r\n",
    "            print(\"\\n\")\r\n",
    "            self.data_next = pd.read_csv(self.log_names[i], error_bad_lines=False)\r\n",
    "            self.data_frames = [self.data, self.data_next]\r\n",
    "            self.data = pd.concat(self.data_frames, ignore_index=True)"
   ],
   "outputs": [],
   "metadata": {}
  },
  {
   "cell_type": "code",
   "execution_count": null,
   "source": [
    "Analyser = Analyser(\"C:/Users/Sujit/Documents/STFC/Code/Mikroe/nvRAM_experiment/results/live/SRAM3/1/half/\")\r\n",
    "Analyser.getData()\r\n",
    "print(Analyser.data)"
   ],
   "outputs": [],
   "metadata": {}
  }
 ],
 "metadata": {
  "orig_nbformat": 4,
  "language_info": {
   "name": "python"
  }
 },
 "nbformat": 4,
 "nbformat_minor": 2
}