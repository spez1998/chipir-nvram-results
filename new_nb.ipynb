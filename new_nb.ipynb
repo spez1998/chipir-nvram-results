{
 "cells": [
  {
   "cell_type": "code",
   "execution_count": 219,
   "source": [
    "from datetime import datetime, timedelta\r\n",
    "import numpy as np\r\n",
    "import pandas as pd\r\n",
    "import os\r\n",
    "import sys"
   ],
   "outputs": [],
   "metadata": {}
  },
  {
   "cell_type": "code",
   "execution_count": 220,
   "source": [
    "class ExpLogHandler:\r\n",
    "    def __init__(self, log_names):\r\n",
    "        self.log_names = log_names\r\n",
    "        \r\n",
    "    def getData(self):\r\n",
    "        self.data = pd.read_csv(self.log_names[0], error_bad_lines=False)\r\n",
    "        for i in range(1, len(self.log_names)):\r\n",
    "            data_next   = pd.read_csv(self.log_names[i], error_bad_lines=False)\r\n",
    "            data_frames = [self.data, data_next]\r\n",
    "            self.data   = pd.concat(data_frames, ignore_index=True)\r\n",
    "        self.data.drop(self.data.loc[(self.data[\"Timestamp\"] == \"Timestamp\")].index.tolist())\r\n",
    "        self.dataLength = self.data.shape[0]\r\n",
    "\r\n",
    "        wrchckbrdLocs  = self.data.loc[(self.data[\"Board\"] == \"M\") & (self.data[\"Mikroe_socket\"] == \"A\") & (self.data[\"Status\"] == \"WRCHCKBRD\")].index.tolist()\r\n",
    "        wrchckbrdIndex = [(i, \"WRCHCKBRD\") for i in wrchckbrdLocs]\r\n",
    "        initLocs       = self.data.loc[(self.data[\"Board\"] == \"M\") & (self.data[\"Mikroe_socket\"] == \"A\") & (self.data[\"Status\"] == \"INIT\")].index.tolist()\r\n",
    "        initIndex      = [(i, \"INIT\") for i in initLocs]\r\n",
    "        runIndex       = wrchckbrdIndex + initIndex\r\n",
    "        runIndex       = sorted(runIndex)\r\n",
    "        runIndex.append((self.dataLength, \"END\"))\r\n",
    "        \r\n",
    "        runId  = 1\r\n",
    "        runCol = [''] * self.dataLength\r\n",
    "        for h in range(len(runIndex) - 1):\r\n",
    "            if runIndex[h][1] == \"WRCHCKBRD\":\r\n",
    "                start              = runIndex[h][0]\r\n",
    "                end                = runIndex[h+1][0]\r\n",
    "                runCol[start:end]  = [runId]*(end-start)\r\n",
    "                runId              += 1\r\n",
    "\r\n",
    "        self.data.insert(loc=0, column=\"Run_ID\", value=runCol)\r\n",
    "\r\n",
    "\r\n",
    "        return self.data"
   ],
   "outputs": [],
   "metadata": {}
  },
  {
   "cell_type": "code",
   "execution_count": 221,
   "source": [
    "class BeamLogHandler:\r\n",
    "    def __init__(self, firstTime, lastTime, targetDir_fullpathList):     \r\n",
    "        self.beamLogFnameFormat     = \"%Y-%m-%d\"\r\n",
    "        self.firstTime              = firstTime\r\n",
    "        self.lastTime               = lastTime\r\n",
    "        self.targetDir_fullpathList = targetDir_fullpathList\r\n",
    "\r\n",
    "    def getLogs(self):\r\n",
    "        self.targetDir_fullpathList[-4:] = [\"neutrons\"]\r\n",
    "        firstBeamTime   = datetime.strftime(self.firstTime, self.beamLogFnameFormat)\r\n",
    "        print(firstBeamTime)\r\n",
    "        lastBeamTime    = datetime.strftime(self.lastTime, self.beamLogFnameFormat)\r\n",
    "        print(lastBeamTime)\r\n",
    "        beamlog_day_dif = int(datetime.strftime(self.lastTime, \"%d\")) - int(datetime.strftime(self.firstTime, \"%d\"))\r\n",
    "        self.beamlog    = pd.read_csv(f\"../../../neutrons/countlog-{firstBeamTime}.txt\", delim_whitespace=True, header=None, skiprows=1)\r\n",
    "        self.nextTime   = self.firstTime\r\n",
    "        for i in range(0, beamlog_day_dif+1):\r\n",
    "            self.nextTime      = self.nextTime + timedelta(days=1)\r\n",
    "            self.nextBeamTime  = datetime.strftime(self.nextTime, self.beamLogFnameFormat)\r\n",
    "            try:\r\n",
    "                nextBeamlog    = pd.read_csv(f\"../../../neutrons/countlog-{self.nextBeamTime}.txt\", delim_whitespace=True, header=None, skiprows=1)\r\n",
    "            except FileNotFoundError:\r\n",
    "                pass\r\n",
    "            beamlogFrames      = [self.beamlog, nextBeamlog]\r\n",
    "            self.beamlog       = pd.concat(beamlogFrames, ignore_index=True)\r\n",
    "            \r\n",
    "        self.beamlog.columns = [\"Date\", \"HMS_time\", \"Millisecs\", \"Count1\", \"Count2\", \"Count3\", \"Count4\", \"protonCharge\", \"Beam_current\"]\r\n",
    "        return self.beamlog"
   ],
   "outputs": [],
   "metadata": {}
  },
  {
   "cell_type": "code",
   "execution_count": 222,
   "source": [
    "class Run:\r\n",
    "    def __init__(self, name, data):\r\n",
    "        self.name   = name\r\n",
    "        self.valid  = -1\r\n",
    "        self.hot    = -1\r\n",
    "        self.delay  = -1\r\n",
    "        self.num    = [int(s) for s in name.split('_') if s.isdigit()][0]\r\n",
    "        self.df     = data.loc[(data['Run_ID'] == self.num)]\r\n",
    "        self.errors = -1\r\n",
    "\r\n",
    "    def ctor(self):\r\n",
    "        try:\r\n",
    "            self.before_delay_i = self.df.loc[(self.df['Mikroe_socket'] == 'D') & (self.df['Status'] == 'STORE_OK')].index[0]\r\n",
    "            self.before_delay_t = self.df.loc[self.before_delay_i]['Timestamp']\r\n",
    "            self.after_delay_i  = self.df.loc[(self.df['Mikroe_socket'] == 'A') & (self.df['Status'] == 'VERIF')].index[0] + 1\r\n",
    "            self.after_delay_t  = self.df.loc[self.after_delay_i]['Timestamp']\r\n",
    "            self.before_delay_dt = datetime.strptime(self.before_delay_t, exp_tformat)\r\n",
    "            self.after_delay_dt  = datetime.strptime(self.after_delay_t, exp_tformat)\r\n",
    "        except IndexError:\r\n",
    "            self.valid = 0\r\n",
    "        else:\r\n",
    "            self.valid = 1\r\n",
    "\r\n",
    "        if self.valid:    \r\n",
    "            self.dif = self.after_delay_dt - self.before_delay_dt\r\n",
    "            if timedelta(seconds = 0.1) < self.dif < timedelta(seconds = 0.5):\r\n",
    "                self.delay = 0.1\r\n",
    "            if timedelta(seconds = 0.5) < self.dif < timedelta(seconds = 5):\r\n",
    "                self.delay = 1\r\n",
    "            if timedelta(seconds = 5) < self.dif < timedelta(seconds = 50):\r\n",
    "                self.delay = 10\r\n",
    "            if timedelta(seconds = 50) < self.dif < timedelta(seconds = 500):\r\n",
    "                self.delay = 100\r\n",
    "            if timedelta(seconds = 500) < self.dif < timedelta(seconds = 5000):\r\n",
    "                self.delay = 1000\r\n",
    "        else:\r\n",
    "            return 0\r\n",
    "\r\n",
    "        if self.valid:\r\n",
    "            if beamOn(self.before_delay_t, self.after_delay_t):\r\n",
    "                self.hot = 1\r\n",
    "            else:\r\n",
    "                self.hot = 0\r\n",
    "        else:\r\n",
    "            self.hot = 0\r\n",
    "\r\n",
    "        if self.valid:\r\n",
    "            self.error_num = self.df['Status'].value_counts()['SDC']\r\n",
    "        else:\r\n",
    "            return None "
   ],
   "outputs": [],
   "metadata": {}
  },
  {
   "cell_type": "code",
   "execution_count": 223,
   "source": [
    "class Analyser:\r\n",
    "    def __init__(self, targetDir_fullpath):\r\n",
    "        self.targetDir_fullpath  = targetDir_fullpath\r\n",
    "        self.expLogTstampFormat  = \"%Y-%m-%d_%H-%M-%S-%f\"\r\n",
    "        self.beamLogTstampFormat = \"%d/%m/%Y %H:%M:%S\"\r\n",
    " \r\n",
    "    def setup(self):\r\n",
    "        self.targetDir_fullpathList = self.targetDir_fullpath.split(\"/\")\r\n",
    "        targetDir_trunc             = self.targetDir_fullpathList[-3:]\r\n",
    "        self.chip                   = targetDir_trunc[0]\r\n",
    "        self.variant                = targetDir_trunc[1]\r\n",
    "        self.size                   = targetDir_trunc[2]\r\n",
    "\r\n",
    "        # Get data from logs\r\n",
    "        self.log_names     = [self.targetDir_fullpath+i for i in os.listdir(self.targetDir_fullpath) if \".csv\" in i]\r\n",
    "        self.log_names.sort(key=os.path.getmtime)\r\n",
    "        self.ExpLogHandler = ExpLogHandler(self.log_names)\r\n",
    "        self.data          = self.ExpLogHandler.getData()\r\n",
    "\r\n",
    "        # Get beam status from logs\r\n",
    "        firstTimestamp           = self.data[0:1]['Timestamp'][0]\r\n",
    "        lastTimestamp            = self.data[self.data.shape[0]-2:self.data.shape[0]-1]['Timestamp'][self.data.shape[0]-2]\r\n",
    "        self.firstTime           = datetime.strptime(firstTimestamp, self.expLogTstampFormat)\r\n",
    "        self.lastTime            = datetime.strptime(lastTimestamp, self.expLogTstampFormat)\r\n",
    "        self.BeamLogHandler      = BeamLogHandler(self.firstTime, self.lastTime, self.targetDir_fullpathList)\r\n",
    "        self.beamlog             = self.BeamLogHandler.getLogs()\r\n",
    "\r\n",
    "        # Create datetime objects from beamlog timestamps\r\n",
    "        beamlogTstamps    = (self.beamlog['Date'] + self.beamlog['HMS_time'] + self.beamlog['Millisecs'].apply(str)).tolist()\r\n",
    "        self.beamlogTimes = []\r\n",
    "        for i in beamlogTstamps:\r\n",
    "            if len(i) > 23:\r\n",
    "                i = i[0:26]\r\n",
    "            self.beamlogTimes.append(i)\r\n",
    "        self.beamlogTimes = [datetime.strptime(i, '%d/%m/%Y%H:%M:%S0.%f') for i in self.beamlogTimes]\r\n",
    "\r\n",
    "    def beamOn(self, firstTstamp, lastTstamp):\r\n",
    "        #bOfirstTime           = datetime.strptime(firstTstamp, self.expLogTstampFormat)\r\n",
    "        #bOlastTime            = datetime.strptime(lastTstamp, self.expLogTstampFormat)\r\n",
    "        bOfirstTime = firstTstamp\r\n",
    "        bOlastTime = lastTstamp\r\n",
    "        self.beamTimeNearFirstTime = min([i for i in self.beamlogTimes if i <= bOfirstTime], key=lambda x: abs(x - bOfirstTime))\r\n",
    "        self.beamTimeNearLastTime  = min([i for i in self.beamlogTimes if i >= bOlastTime], key=lambda x: abs(bOlastTime - x))\r\n",
    "        self.firstRow              = self.beamlog.loc[(self.beamlog['Date'] == datetime.strftime(self.beamTimeNearFirstTime, '%d/%m/%Y')) & (self.beamlog['HMS_time'] == datetime.strftime(self.beamTimeNearFirstTime, '%H:%M:%S'))]\r\n",
    "        self.lastRow               = self.beamlog.loc[(self.beamlog['Date'] == datetime.strftime(self.beamTimeNearLastTime, '%d/%m/%Y')) & (self.beamlog['HMS_time'] == datetime.strftime(self.beamTimeNearLastTime, '%H:%M:%S'))]\r\n",
    "        count4Dif             = self.lastRow.iloc[0]['Count4'] - self.firstRow.iloc[0]['Count4']\r\n",
    "        numRows               = self.lastRow.index.astype(int)[0] - self.firstRow.index.astype(int)[0]\r\n",
    "        cps                   = count4Dif / numRows\r\n",
    "        if cps > 1:\r\n",
    "            return 1\r\n",
    "        return 0\r\n",
    " \r\n",
    "    def createRuns(self):\r\n",
    "        runNames  = []\r\n",
    "        self.runs = {}\r\n",
    "        for i in range(1, self.data[self.data['Run_ID'].last_valid_index():self.data['Run_ID'].last_valid_index()+1]['Run_ID'][self.data['Run_ID'].last_valid_index()]+1):\r\n",
    "            runNames.append(f\"run_{i}\")\r\n",
    "        for i in runNames:\r\n",
    "            self.runs[i] = Run(i, self.data)\r\n",
    "\r\n",
    "    def processRuns(self): \r\n",
    "        for value in self.runs.values():\r\n",
    "            try:\r\n",
    "                before_delay_i = value.df.loc[(value.df['Mikroe_socket'] == 'D') & (value.df['Status'] == 'STORE_OK')].index[0]\r\n",
    "                before_delay_t = value.df.loc[before_delay_i]['Timestamp']\r\n",
    "                after_delay_i  = value.df.loc[(value.df['Mikroe_socket'] == 'A') & (value.df['Status'] == 'VERIF')].index[0] + 1\r\n",
    "                after_delay_t  = value.df.loc[after_delay_i]['Timestamp']\r\n",
    "                before_delay_dt = datetime.strptime(before_delay_t, self.expLogTstampFormat)\r\n",
    "                after_delay_dt  = datetime.strptime(after_delay_t, self.expLogTstampFormat)   \r\n",
    "                dif = after_delay_dt - before_delay_dt\r\n",
    "                if timedelta(seconds = 0.1) < dif < timedelta(seconds = 0.5):\r\n",
    "                    value.delay = 0.1\r\n",
    "                if timedelta(seconds = 0.5) < dif < timedelta(seconds = 5):\r\n",
    "                    value.delay = 1\r\n",
    "                if timedelta(seconds = 5) < dif < timedelta(seconds = 50):\r\n",
    "                    value.delay = 10\r\n",
    "                if timedelta(seconds = 50) < dif < timedelta(seconds = 500):\r\n",
    "                    value.delay = 100\r\n",
    "                if timedelta(seconds = 500) < dif < timedelta(seconds = 5000):\r\n",
    "                    value.delay = 1000\r\n",
    "                if self.beamOn(before_delay_dt, after_delay_dt):\r\n",
    "                    value.hot = 1\r\n",
    "                else:\r\n",
    "                    value.hot = 0\r\n",
    "                try:\r\n",
    "                    value.errors = value.df['Status'].value_counts()['SDC']\r\n",
    "                except KeyError:\r\n",
    "                    value.errors = 0\r\n",
    "            except IndexError:\r\n",
    "                value.valid = 0\r\n",
    "            else:\r\n",
    "                value.valid = 1"
   ],
   "outputs": [],
   "metadata": {}
  },
  {
   "cell_type": "code",
   "execution_count": 224,
   "source": [
    "Analyser = Analyser(\"C:/Users/Sujit/Documents/STFC/Code/Mikroe/nvRAM_experiment/results/live/SRAM3/1/test/\")"
   ],
   "outputs": [],
   "metadata": {}
  },
  {
   "cell_type": "code",
   "execution_count": 225,
   "source": [
    "Analyser.setup()"
   ],
   "outputs": [
    {
     "output_type": "stream",
     "name": "stdout",
     "text": [
      "2021-05-21\n",
      "2021-05-22\n"
     ]
    }
   ],
   "metadata": {}
  },
  {
   "cell_type": "code",
   "execution_count": 226,
   "source": [
    "Analyser.createRuns()"
   ],
   "outputs": [],
   "metadata": {}
  },
  {
   "cell_type": "code",
   "execution_count": 227,
   "source": [
    "Analyser.processRuns()"
   ],
   "outputs": [],
   "metadata": {}
  },
  {
   "cell_type": "code",
   "execution_count": 228,
   "source": [
    "test1 = Analyser.runs[\"run_8\"]\r\n",
    "bef = datetime.strptime(test1.df.loc[test1.df.loc[(test1.df['Mikroe_socket'] == 'D') & (test1.df['Status'] == 'STORE_OK')].index[0]]['Timestamp'], \"%Y-%m-%d_%H-%M-%S-%f\")\r\n",
    "aft = datetime.strptime(test1.df.loc[test1.df.loc[(test1.df['Mikroe_socket'] == 'A') & (test1.df['Status'] == 'VERIF')].index[0] + 1]['Timestamp'], \"%Y-%m-%d_%H-%M-%S-%f\")\r\n",
    "Analyser.beamOn(bef, aft)\r\n"
   ],
   "outputs": [
    {
     "output_type": "execute_result",
     "data": {
      "text/plain": [
       "0"
      ]
     },
     "metadata": {},
     "execution_count": 228
    }
   ],
   "metadata": {}
  },
  {
   "cell_type": "code",
   "execution_count": 254,
   "source": [
    "Analyser.runs[\"run_100\"].hot"
   ],
   "outputs": [
    {
     "output_type": "execute_result",
     "data": {
      "text/plain": [
       "1"
      ]
     },
     "metadata": {},
     "execution_count": 254
    }
   ],
   "metadata": {}
  }
 ],
 "metadata": {
  "orig_nbformat": 4,
  "language_info": {
   "name": "python"
  }
 },
 "nbformat": 4,
 "nbformat_minor": 2
}