{
 "cells": [
  {
   "cell_type": "markdown",
   "metadata": {},
   "source": [
    "## Imports"
   ]
  },
  {
   "cell_type": "markdown",
   "metadata": {},
   "source": [
    "### Python modules"
   ]
  },
  {
   "cell_type": "code",
   "execution_count": 1,
   "metadata": {},
   "outputs": [],
   "source": [
    "import pandas as pd\r\n",
    "import numpy as np\r\n",
    "from datetime import datetime"
   ]
  },
  {
   "cell_type": "markdown",
   "metadata": {},
   "source": [
    "## Data Processing"
   ]
  },
  {
   "cell_type": "markdown",
   "metadata": {},
   "source": [
    "### Dataframe Creation"
   ]
  },
  {
   "cell_type": "markdown",
   "metadata": {},
   "source": [
    "Read target csv to a Dataframe, ignore all bad lines. Python will tell me which lines are ignored for manual cleanup. Only seems to happen when boards were rebooted - no data loss, easy to fix."
   ]
  },
  {
   "cell_type": "code",
   "execution_count": 2,
   "metadata": {},
   "outputs": [],
   "source": [
    "data = pd.read_csv('../../SRAM3/1/half/nvRAM_data_02-06-2021-1720.csv', error_bad_lines=False)\r\n",
    "log_length = data.shape[0]"
   ]
  },
  {
   "cell_type": "markdown",
   "metadata": {},
   "source": [
    "### Neutron Logs"
   ]
  },
  {
   "cell_type": "markdown",
   "metadata": {},
   "source": [
    "Get first/last log timestamps into datetime objects"
   ]
  },
  {
   "cell_type": "code",
   "execution_count": 123,
   "metadata": {},
   "outputs": [],
   "source": [
    "exp_tformat = '%Y-%m-%d_%H-%M-%S-%f'\r\n",
    "exp_firststamp = datetime.strptime(data.iloc[0]['Timestamp'], exp_tformat)\r\n",
    "exp_laststamp = datetime.strptime(data.iloc[log_length-1]['Timestamp'], exp_tformat)"
   ]
  },
  {
   "cell_type": "markdown",
   "metadata": {},
   "source": [
    "Create neutron log names from datetime objects, import neutron logs ignoring first line"
   ]
  },
  {
   "cell_type": "code",
   "execution_count": 148,
   "metadata": {},
   "outputs": [],
   "source": [
    "beamlog_fname_tformat = '%Y-%m-%d'\r\n",
    "beamlog_firstday = datetime.strftime(exp_firststamp, beamlog_tformat)\r\n",
    "beamlog_lastday = datetime.strftime(exp_laststamp, beamlog_tformat)\r\n",
    "beamlog_first = pd.read_csv(f\"../neutrons/countlog-{beamlog_firstday}.txt\", delim_whitespace=True, header=None, skiprows=1)\r\n",
    "beamlog_last = pd.read_csv(f\"../neutrons/countlog-{beamlog_lastday}.txt\", delim_whitespace=True, header=None, skiprows=1)"
   ]
  },
  {
   "cell_type": "markdown",
   "metadata": {},
   "source": [
    "### Identifying Runs"
   ]
  },
  {
   "cell_type": "markdown",
   "metadata": {},
   "source": [
    "Create a list of every instance of M,A,WRCHCKBRD. This log line indicates the start of every new experiment run. Should probably make this a user input to this Python so that different experiment setups are easily accounted for.\n",
    "\n",
    "Create a list of every instance of M,A,INIT. Indicates start of board power cycle.\n",
    "\n",
    "This method is the easiest, but will label all INIT cycles as a separate experimental run. No loss of data occurs so this is ok."
   ]
  },
  {
   "cell_type": "code",
   "execution_count": 4,
   "metadata": {
    "scrolled": true
   },
   "outputs": [],
   "source": [
    "wrchckbrd_locs = data.loc[(data['Board'] == 'M') & (data['Mikroe_socket'] == 'A') & (data['Status'] == 'WRCHCKBRD')].index.tolist()\r\n",
    "wrchckbrd_index = [(i, 'WRCHCKBRD') for i in wrchckbrd_locs]\r\n",
    "init_locs = data.loc[(data['Board'] == 'M') & (data['Mikroe_socket'] == 'A') & (data['Status'] == 'INIT')].index.tolist()\r\n",
    "init_index = [(i, 'INIT') for i in init_locs]"
   ]
  },
  {
   "cell_type": "markdown",
   "metadata": {},
   "source": [
    "Combine both lists, and append new list with final log line number."
   ]
  },
  {
   "cell_type": "code",
   "execution_count": 5,
   "metadata": {},
   "outputs": [],
   "source": [
    "run_index = wrchckbrd_index + init_index\r\n",
    "run_index = sorted(run_index)\r\n",
    "run_index.append((log_length, 'END'))"
   ]
  },
  {
   "cell_type": "markdown",
   "metadata": {},
   "source": [
    "For each element h in c, if the status c[h][1] is WRCHCKBRD, label everything between its index c[h][0] and the next index c[h+1][0] in c with the same run ID. If the status is INIT, no labels. This ensures that only actual test sequences are associated as runs."
   ]
  },
  {
   "cell_type": "code",
   "execution_count": 6,
   "metadata": {},
   "outputs": [],
   "source": [
    "run_id = 1\r\n",
    "run_col = ['']*log_length\r\n",
    "for h in range(len(run_index)-1):\r\n",
    "    if run_index[h][1] == 'WRCHCKBRD':\r\n",
    "        start = run_index[h][0]\r\n",
    "        end = run_index[h+1][0]\r\n",
    "        run_col[start:end] = [run_id]*(end-start)\r\n",
    "        run_id+=1"
   ]
  },
  {
   "cell_type": "code",
   "execution_count": 7,
   "metadata": {},
   "outputs": [],
   "source": [
    "data.insert(loc=0, column='Run_ID', value=run_col)"
   ]
  },
  {
   "cell_type": "markdown",
   "metadata": {},
   "source": [
    "### Hot and Cold Runs"
   ]
  },
  {
   "cell_type": "markdown",
   "metadata": {},
   "source": [
    "Format datetime object into neutron log timestamps"
   ]
  },
  {
   "cell_type": "code",
   "execution_count": 149,
   "metadata": {},
   "outputs": [],
   "source": [
    "beamlog_stamp_tformat = '%d/%m/%Y %H:%M:%S'\r\n",
    "beamlog_firststamp = datetime.strftime(exp_firststamp, beamlog_stamp_tformat)\r\n",
    "beamlog_laststamp = datetime.strftime(exp_laststamp, beamlog_stamp_tformat)\r\n"
   ]
  },
  {
   "cell_type": "markdown",
   "metadata": {},
   "source": [
    "Remake neutron log column names"
   ]
  },
  {
   "cell_type": "code",
   "execution_count": 150,
   "metadata": {},
   "outputs": [],
   "source": [
    "beamlog_new_colnames = [\"Date\", \"HMS_time\", \"Millisecs\", \"Count1\", \"Count2\", \"Count3\", \"Count4\", \"unknown\", \"Beam_current\"]\r\n",
    "beamlog_first.columns = beamlog_new_colnames\r\n",
    "beamlog_last.columns = beamlog_new_colnames"
   ]
  },
  {
   "cell_type": "markdown",
   "metadata": {},
   "source": [
    "### How many bits tend to get flipped?"
   ]
  },
  {
   "cell_type": "markdown",
   "metadata": {},
   "source": [
    "Get occurrences of each type of error"
   ]
  },
  {
   "cell_type": "code",
   "execution_count": 22,
   "metadata": {},
   "outputs": [],
   "source": [
    "num_see = data.loc[(data['Status'] == 'SDC')].index\r\n",
    "see = data['SDC_val']\r\n",
    "see_types_hex = see.value_counts().index.tolist()\r\n",
    "see_freqs = see.value_counts().tolist()\r\n",
    "see_bins = list(zip(see_types_hex, see_freqs))"
   ]
  },
  {
   "cell_type": "markdown",
   "metadata": {},
   "source": [
    "### Where do errors tend to happen?"
   ]
  },
  {
   "cell_type": "code",
   "execution_count": 24,
   "metadata": {},
   "outputs": [],
   "source": [
    "see_loc = data['SDC_loc']\r\n",
    "see_locs_hex = see_loc.value_counts().index.tolist()\r\n",
    "see_loc_freqs = see_loc.value_counts().tolist()\r\n",
    "see_locs_bins = list(zip(see_locs_hex, see_loc_freqs))"
   ]
  },
  {
   "cell_type": "markdown",
   "metadata": {},
   "source": [
    "Use this for Hamming distance between errors and golden value:"
   ]
  },
  {
   "cell_type": "code",
   "execution_count": 83,
   "metadata": {},
   "outputs": [
    {
     "data": {
      "text/plain": [
       "2"
      ]
     },
     "execution_count": 83,
     "metadata": {},
     "output_type": "execute_result"
    }
   ],
   "source": [
    "xortest1 = 169\r\n",
    "xortest2 = 170\r\n",
    "\r\n",
    "bin(xortest1 ^ xortest2).count('1')"
   ]
  }
 ],
 "metadata": {
  "interpreter": {
   "hash": "68e83ffa79d15a4f3f363f7e2d730fba250349155b7434a2a310aead7dfd6146"
  },
  "kernelspec": {
   "display_name": "Python 3.8.5 64-bit ('base': conda)",
   "name": "python3"
  },
  "language_info": {
   "codemirror_mode": {
    "name": "ipython",
    "version": 3
   },
   "file_extension": ".py",
   "mimetype": "text/x-python",
   "name": "python",
   "nbconvert_exporter": "python",
   "pygments_lexer": "ipython3",
   "version": "3.8.5"
  }
 },
 "nbformat": 4,
 "nbformat_minor": 4
}